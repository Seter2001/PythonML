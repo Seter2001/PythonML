{
  "nbformat": 4,
  "nbformat_minor": 0,
  "metadata": {
    "colab": {
      "provenance": [],
      "authorship_tag": "ABX9TyNtNBxSXedZlxlGb8VVCgmZ",
      "include_colab_link": true
    },
    "kernelspec": {
      "name": "python3",
      "display_name": "Python 3"
    },
    "language_info": {
      "name": "python"
    }
  },
  "cells": [
    {
      "cell_type": "markdown",
      "metadata": {
        "id": "view-in-github",
        "colab_type": "text"
      },
      "source": [
        "<a href=\"https://colab.research.google.com/github/Seter2001/PythonML/blob/abc/lab2task4.ipynb\" target=\"_parent\"><img src=\"https://colab.research.google.com/assets/colab-badge.svg\" alt=\"Open In Colab\"/></a>"
      ]
    },
    {
      "cell_type": "code",
      "source": [
        "def celebrate():\n",
        "  print(\"wooooo\")\n",
        "\n",
        "  if True:\n",
        "    celebrate()"
      ],
      "metadata": {
        "id": "Ef0kN-jduW1C"
      },
      "execution_count": 19,
      "outputs": []
    }
  ]
}